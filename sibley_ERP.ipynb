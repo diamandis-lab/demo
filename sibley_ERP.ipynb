{
  "nbformat": 4,
  "nbformat_minor": 0,
  "metadata": {
    "colab": {
      "name": "sibley_ERP.ipynb",
      "provenance": [],
      "collapsed_sections": []
    },
    "kernelspec": {
      "name": "python3",
      "display_name": "Python 3"
    },
    "language_info": {
      "name": "python"
    }
  },
  "cells": [
    {
      "cell_type": "markdown",
      "source": [
        "**ERP analysis in EEG data recorded with Muse 2 using the Sibley platform**\n",
        "\n",
        "Provides an basic way to inspect the ERP results in one EEG session <br>\n",
        "[Updated: 2022-05-02]"
      ],
      "metadata": {
        "id": "seI9wX7vSUaW"
      }
    },
    {
      "cell_type": "code",
      "source": [
        "# If needed, mount Google drive\n",
        "from google.colab import drive\n",
        "drive.mount('/content/drive')"
      ],
      "metadata": {
        "id": "CqwOjxoUUl5g"
      },
      "execution_count": null,
      "outputs": []
    },
    {
      "cell_type": "code",
      "execution_count": 84,
      "metadata": {
        "id": "YauFOqOZRrIQ"
      },
      "outputs": [],
      "source": [
        "# Install software and load packages\n",
        "!pip install mne\n",
        "import numpy as np\n",
        "import mne\n",
        "import pandas as pd\n",
        "from mne import Epochs\n",
        "import os\n",
        "import json\n",
        "import sys"
      ]
    },
    {
      "cell_type": "code",
      "source": [
        "# Path to the folder containing the session's data\n",
        "# The files EEG.csv and session_info.json must be present\n",
        "session = '/content/drive/MyDrive/sibley_output/20220429-142340_default_grey_bear'\n",
        "\n",
        "found_eeg = os.path.exists(session + '/' + 'EEG.csv')\n",
        "found_session_info = os.path.exists(session + '/' + 'session_info.json')\n",
        "if found_eeg and found_session_info:\n",
        "  print('Session:\\t' + session)\n",
        "else:\n",
        "  print('ERROR: input file(s) not found')\n",
        "  sys.exit()\n",
        "session_info = json.load(open(session + '/' + 'session_info.json'))\n",
        "print('Description:\\t' + session_info['params']['session_type'])\n",
        "eeg_device = session_info['params']['eeg_device']\n",
        "print('EEG device:\\t' + eeg_device)\n",
        "if not session_info['params']['eeg_device'] in ['Muse 2', 'Muse S']:\n",
        "  print('ERROR: the data was recorded with ' + session_info['params']['eeg_device'])\n",
        "  sys.exit()\n",
        "markers = session_info['EEG_marks']['EEG_markers']\n",
        "markers_stim = [curr for curr in markers if curr['type']=='stimulus']\n",
        "if len(markers_stim)==0:\n",
        "  print('ERROR: no stim markers were found')\n",
        "  sys.exit()\n",
        "markers_msg = [x['name'] + '=' + str(x['mark']) for x in markers_stim]\n",
        "print('Stim markers:\\t' + ', '.join(markers_msg))"
      ],
      "metadata": {
        "id": "wt5I7jAtSJ2I"
      },
      "execution_count": null,
      "outputs": []
    },
    {
      "cell_type": "code",
      "source": [
        "# Load data and build basic diagnostic plots\n",
        "\n",
        "fname = os.path.join(session, 'EEG.csv')\n",
        "data = pd.read_csv(fname)\n",
        "raw_eeg = data.copy()\n",
        "if 'timestamps' in raw_eeg.columns:\n",
        "    del raw_eeg['timestamps']\n",
        "if 'marker' in raw_eeg.columns:\n",
        "    del raw_eeg['marker']\n",
        "ch_names = list(raw_eeg.columns)\n",
        "raw_eeg = raw_eeg.transpose()\n",
        "ch_types = ['eeg'] * 4\n",
        "sfreq = 256  # Hz\n",
        "# Create the info structure needed by MNE\n",
        "info = mne.create_info(ch_names=ch_names, sfreq=sfreq, ch_types=ch_types)\n",
        "info.set_montage('standard_1020')\n",
        "raw = mne.io.RawArray(raw_eeg, info)\n",
        "raw.filter(l_freq=0.5, h_freq=45)\n",
        "raw.plot(scalings=100)\n",
        "raw.plot_psd(average=False)\n",
        "info_stim = mne.create_info(['STI'], sfreq, ['stim'])\n",
        "data_stim = np.array(data['marker'])\n",
        "t = data[['marker']].to_numpy().transpose()\n",
        "raw_stim = mne.io.RawArray(t, info_stim)\n",
        "raw.add_channels([raw_stim], force_update_info=True)\n",
        "events = mne.find_events(raw, stim_channel='STI')"
      ],
      "metadata": {
        "id": "byzVhpIoSq6x"
      },
      "execution_count": null,
      "outputs": []
    },
    {
      "cell_type": "code",
      "source": [
        "# select the channels to plot\n",
        "# One or more from the following list: ['TP9', 'AF7', 'AF8', 'TP10']\n",
        "plot_channels = ['TP9']\n",
        "\n",
        "for dict_stim in markers_stim:\n",
        "  #print(dict_stim['name'] + '...' + str(dict_stim['mark']))\n",
        "  for ch_curr in plot_channels:\n",
        "    epochs = Epochs(raw, events, event_id=dict_stim['mark'], tmin=-0.25, tmax=1.25, baseline=None)\n",
        "    str_title = ' '.join([session_info['params']['session_type'], ch_curr, dict_stim['name']])\n",
        "    epochs.plot_image(picks=[ch_curr], title=str_title)\n"
      ],
      "metadata": {
        "id": "bZHTF1mQTIMw"
      },
      "execution_count": null,
      "outputs": []
    }
  ]
}